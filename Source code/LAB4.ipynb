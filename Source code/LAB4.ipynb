{
  "nbformat": 4,
  "nbformat_minor": 0,
  "metadata": {
    "colab": {
      "name": "LAB4.ipynb",
      "provenance": [],
      "collapsed_sections": []
    },
    "kernelspec": {
      "name": "python3",
      "display_name": "Python 3"
    }
  },
  "cells": [
    {
      "cell_type": "markdown",
      "metadata": {
        "id": "Oa0VQa5-5-Nw"
      },
      "source": [
        "Question 1"
      ]
    },
    {
      "cell_type": "code",
      "metadata": {
        "id": "aIrvLYd9ZBUt"
      },
      "source": [
        "import pandas as pd\r\n",
        "\r\n",
        "train_df = pd.read_csv('/content/train_preprocessed.csv') #reading the train preprocessed data\r\n",
        "test_df = pd.read_csv('/content/test_preprocessed.csv') #reading the test preprocessed data"
      ],
      "execution_count": 1,
      "outputs": []
    },
    {
      "cell_type": "code",
      "metadata": {
        "colab": {
          "base_uri": "https://localhost:8080/"
        },
        "id": "lE7V-p20ihQj",
        "outputId": "2e3f6d2c-1752-42d8-bf1b-ca4755b29907"
      },
      "source": [
        "print(train_df) #looking at the data"
      ],
      "execution_count": 2,
      "outputs": [
        {
          "output_type": "stream",
          "text": [
            "     Survived  Pclass  Sex   Age     Fare  Embarked\n",
            "0           0       3    0  22.0   7.2500         0\n",
            "1           1       1    1  38.0  71.2833         1\n",
            "2           1       3    1  26.0   7.9250         0\n",
            "3           1       1    1  35.0  53.1000         0\n",
            "4           0       3    0  35.0   8.0500         0\n",
            "..        ...     ...  ...   ...      ...       ...\n",
            "886         0       2    0  27.0  13.0000         0\n",
            "887         1       1    1  19.0  30.0000         0\n",
            "888         0       3    1  29.0  23.4500         0\n",
            "889         1       1    0  26.0  30.0000         1\n",
            "890         0       3    0  32.0   7.7500         2\n",
            "\n",
            "[891 rows x 6 columns]\n"
          ],
          "name": "stdout"
        }
      ]
    },
    {
      "cell_type": "code",
      "metadata": {
        "colab": {
          "base_uri": "https://localhost:8080/"
        },
        "id": "jbf0O9nCijhO",
        "outputId": "4fcebf29-abb1-444e-c6d2-cc3b9a3bb15c"
      },
      "source": [
        "print(test_df) #looking at the data"
      ],
      "execution_count": 3,
      "outputs": [
        {
          "output_type": "stream",
          "text": [
            "     PassengerId  Pclass  Sex   Age      Fare  Embarked\n",
            "0            892       3    0  34.5    7.8292         2\n",
            "1            893       3    1  47.0    7.0000         0\n",
            "2            894       2    0  62.0    9.6875         2\n",
            "3            895       3    0  27.0    8.6625         0\n",
            "4            896       3    1  22.0   12.2875         0\n",
            "..           ...     ...  ...   ...       ...       ...\n",
            "413         1305       3    0  29.0    8.0500         0\n",
            "414         1306       1    1  39.0  108.9000         1\n",
            "415         1307       3    0  38.5    7.2500         0\n",
            "416         1308       3    0  29.0    8.0500         0\n",
            "417         1309       3    0  29.0   22.3583         1\n",
            "\n",
            "[418 rows x 6 columns]\n"
          ],
          "name": "stdout"
        }
      ]
    },
    {
      "cell_type": "code",
      "metadata": {
        "colab": {
          "base_uri": "https://localhost:8080/"
        },
        "id": "diKM5qkpi561",
        "outputId": "032d1a82-a6f3-4ba9-da93-ae779db4cea3"
      },
      "source": [
        "print(train_df['Survived'].value_counts(dropna='False')) #getting the number of classes. Total of two classes "
      ],
      "execution_count": 4,
      "outputs": [
        {
          "output_type": "stream",
          "text": [
            "0    549\n",
            "1    342\n",
            "Name: Survived, dtype: int64\n"
          ],
          "name": "stdout"
        }
      ]
    },
    {
      "cell_type": "code",
      "metadata": {
        "colab": {
          "base_uri": "https://localhost:8080/"
        },
        "id": "HsoaUCttktwI",
        "outputId": "7bc2b049-5327-468d-9466-e53c503df15c"
      },
      "source": [
        "print(train_df.isnull().sum()) # seeing how many null values are there in each column "
      ],
      "execution_count": 5,
      "outputs": [
        {
          "output_type": "stream",
          "text": [
            "Survived    0\n",
            "Pclass      0\n",
            "Sex         0\n",
            "Age         0\n",
            "Fare        0\n",
            "Embarked    0\n",
            "dtype: int64\n"
          ],
          "name": "stdout"
        }
      ]
    },
    {
      "cell_type": "code",
      "metadata": {
        "colab": {
          "base_uri": "https://localhost:8080/",
          "height": 111
        },
        "id": "LgADjNHgWhxf",
        "outputId": "6c018c4f-14b1-4ab3-e036-c8add305ecb2"
      },
      "source": [
        "train_df[['Sex','Survived']].groupby(['Sex'], as_index=False).mean().sort_values(by='Survived',ascending=False)"
      ],
      "execution_count": 7,
      "outputs": [
        {
          "output_type": "execute_result",
          "data": {
            "text/html": [
              "<div>\n",
              "<style scoped>\n",
              "    .dataframe tbody tr th:only-of-type {\n",
              "        vertical-align: middle;\n",
              "    }\n",
              "\n",
              "    .dataframe tbody tr th {\n",
              "        vertical-align: top;\n",
              "    }\n",
              "\n",
              "    .dataframe thead th {\n",
              "        text-align: right;\n",
              "    }\n",
              "</style>\n",
              "<table border=\"1\" class=\"dataframe\">\n",
              "  <thead>\n",
              "    <tr style=\"text-align: right;\">\n",
              "      <th></th>\n",
              "      <th>Sex</th>\n",
              "      <th>Survived</th>\n",
              "    </tr>\n",
              "  </thead>\n",
              "  <tbody>\n",
              "    <tr>\n",
              "      <th>1</th>\n",
              "      <td>1</td>\n",
              "      <td>0.742038</td>\n",
              "    </tr>\n",
              "    <tr>\n",
              "      <th>0</th>\n",
              "      <td>0</td>\n",
              "      <td>0.188908</td>\n",
              "    </tr>\n",
              "  </tbody>\n",
              "</table>\n",
              "</div>"
            ],
            "text/plain": [
              "   Sex  Survived\n",
              "1    1  0.742038\n",
              "0    0  0.188908"
            ]
          },
          "metadata": {
            "tags": []
          },
          "execution_count": 7
        }
      ]
    },
    {
      "cell_type": "markdown",
      "metadata": {
        "id": "Na5d1F_MvNfM"
      },
      "source": [
        "Yes,it would be ok to keep the feature becauase it allows us to know who survied based on gender which can be used for other correlations. "
      ]
    },
    {
      "cell_type": "code",
      "metadata": {
        "colab": {
          "base_uri": "https://localhost:8080/",
          "height": 242
        },
        "id": "vDOBzR_WW3e_",
        "outputId": "da22c3c4-b0f2-4909-9d71-436991de50f5"
      },
      "source": [
        "import seaborn as sns\r\n",
        "import matplotlib.pyplot as plt\r\n",
        "\r\n",
        "graph1 = sns.FacetGrid(train_df,col='Survived')\r\n",
        "graph1.map(plt.hist, 'Age', bins=20)"
      ],
      "execution_count": 8,
      "outputs": [
        {
          "output_type": "execute_result",
          "data": {
            "text/plain": [
              "<seaborn.axisgrid.FacetGrid at 0x7f1c1d4c5a90>"
            ]
          },
          "metadata": {
            "tags": []
          },
          "execution_count": 8
        },
        {
          "output_type": "display_data",
          "data": {
            "image/png": "[encoded data removed]",
            "text/plain": [
              "<Figure size 432x216 with 2 Axes>"
            ]
          },
          "metadata": {
            "tags": [],
            "needs_background": "light"
          }
        }
      ]
    },
    {
      "cell_type": "code",
      "metadata": {
        "id": "r4E3ZdLtXq-t"
      },
      "source": [
        "combine = [train_df, test_df]"
      ],
      "execution_count": 9,
      "outputs": []
    },
    {
      "cell_type": "code",
      "metadata": {
        "colab": {
          "base_uri": "https://localhost:8080/"
        },
        "id": "6pSb4nwb3o7E",
        "outputId": "b5920cfc-df1e-4d45-cb87-66d5cfe499fc"
      },
      "source": [
        "print(combine)"
      ],
      "execution_count": 10,
      "outputs": [
        {
          "output_type": "stream",
          "text": [
            "[     Survived  Pclass  Sex   Age     Fare  Embarked\n",
            "0           0       3    0  22.0   7.2500         0\n",
            "1           1       1    1  38.0  71.2833         1\n",
            "2           1       3    1  26.0   7.9250         0\n",
            "3           1       1    1  35.0  53.1000         0\n",
            "4           0       3    0  35.0   8.0500         0\n",
            "..        ...     ...  ...   ...      ...       ...\n",
            "886         0       2    0  27.0  13.0000         0\n",
            "887         1       1    1  19.0  30.0000         0\n",
            "888         0       3    1  29.0  23.4500         0\n",
            "889         1       1    0  26.0  30.0000         1\n",
            "890         0       3    0  32.0   7.7500         2\n",
            "\n",
            "[891 rows x 6 columns],      PassengerId  Pclass  Sex   Age      Fare  Embarked\n",
            "0            892       3    0  34.5    7.8292         2\n",
            "1            893       3    1  47.0    7.0000         0\n",
            "2            894       2    0  62.0    9.6875         2\n",
            "3            895       3    0  27.0    8.6625         0\n",
            "4            896       3    1  22.0   12.2875         0\n",
            "..           ...     ...  ...   ...       ...       ...\n",
            "413         1305       3    0  29.0    8.0500         0\n",
            "414         1306       1    1  39.0  108.9000         1\n",
            "415         1307       3    0  38.5    7.2500         0\n",
            "416         1308       3    0  29.0    8.0500         0\n",
            "417         1309       3    0  29.0   22.3583         1\n",
            "\n",
            "[418 rows x 6 columns]]\n"
          ],
          "name": "stdout"
        }
      ]
    },
    {
      "cell_type": "code",
      "metadata": {
        "colab": {
          "base_uri": "https://localhost:8080/"
        },
        "id": "BVRntLEj4cl9",
        "outputId": "506ab692-30bc-44a9-bd9f-5ac874b8bfc6"
      },
      "source": [
        "X_train = train_df.drop('Survived',axis=1)\r\n",
        "Y_train = train_df['Survived']\r\n",
        "X_test = test_df.drop('PassengerId', axis=1).copy()\r\n",
        "print(train_df[train_df.isnull().any(axis=1)])"
      ],
      "execution_count": 11,
      "outputs": [
        {
          "output_type": "stream",
          "text": [
            "Empty DataFrame\n",
            "Columns: [Survived, Pclass, Sex, Age, Fare, Embarked]\n",
            "Index: []\n"
          ],
          "name": "stdout"
        }
      ]
    },
    {
      "cell_type": "code",
      "metadata": {
        "colab": {
          "base_uri": "https://localhost:8080/"
        },
        "id": "JdQnGJBT47LF",
        "outputId": "ed8de97f-a69c-49bc-ace3-d51ce23ecf53"
      },
      "source": [
        "from sklearn.svm import SVC\r\n",
        "\r\n",
        "svc = SVC()\r\n",
        "svc.fit(X_train,Y_train)\r\n",
        "Y_pred = svc.predict(X_test)\r\n",
        "acc_svc = round(svc.score(X_train,Y_train)*100,2)\r\n",
        "print(\"SVM accuracy: \", acc_svc)"
      ],
      "execution_count": 12,
      "outputs": [
        {
          "output_type": "stream",
          "text": [
            "SVM accuracy:  68.35\n"
          ],
          "name": "stdout"
        }
      ]
    },
    {
      "cell_type": "code",
      "metadata": {
        "colab": {
          "base_uri": "https://localhost:8080/"
        },
        "id": "rAhzwmO35dsE",
        "outputId": "3c051418-5291-4e25-8e5c-6ec784de1700"
      },
      "source": [
        "from sklearn.neighbors import KNeighborsClassifier\r\n",
        "\r\n",
        "knn = KNeighborsClassifier(n_neighbors=3)\r\n",
        "knn.fit(X_train,Y_train)\r\n",
        "Y_pred = knn.predict(X_test)\r\n",
        "acc_knn = round(knn.score(X_train,Y_train)*100,2)\r\n",
        "print(\"KNN accuracy is \", acc_knn)"
      ],
      "execution_count": 13,
      "outputs": [
        {
          "output_type": "stream",
          "text": [
            "KNN accuracy is  83.5\n"
          ],
          "name": "stdout"
        }
      ]
    },
    {
      "cell_type": "markdown",
      "metadata": {
        "id": "Cy6rwF4F6Brw"
      },
      "source": [
        "Question 2"
      ]
    },
    {
      "cell_type": "code",
      "metadata": {
        "id": "fCVOtALv_QQh"
      },
      "source": [
        "from sklearn.model_selection import train_test_split\r\n",
        "from sklearn.naive_bayes import GaussianNB"
      ],
      "execution_count": 14,
      "outputs": []
    },
    {
      "cell_type": "code",
      "metadata": {
        "colab": {
          "base_uri": "https://localhost:8080/",
          "height": 359
        },
        "id": "DHJJVa5I_f_k",
        "outputId": "f3b99505-a4da-4690-e128-990135cb3d0f"
      },
      "source": [
        "dataset_2 = pd.read_csv('/content/glass.csv')\r\n",
        "dataset_2.head(10)"
      ],
      "execution_count": 15,
      "outputs": [
        {
          "output_type": "execute_result",
          "data": {
            "text/html": [
              "<div>\n",
              "<style scoped>\n",
              "    .dataframe tbody tr th:only-of-type {\n",
              "        vertical-align: middle;\n",
              "    }\n",
              "\n",
              "    .dataframe tbody tr th {\n",
              "        vertical-align: top;\n",
              "    }\n",
              "\n",
              "    .dataframe thead th {\n",
              "        text-align: right;\n",
              "    }\n",
              "</style>\n",
              "<table border=\"1\" class=\"dataframe\">\n",
              "  <thead>\n",
              "    <tr style=\"text-align: right;\">\n",
              "      <th></th>\n",
              "      <th>RI</th>\n",
              "      <th>Na</th>\n",
              "      <th>Mg</th>\n",
              "      <th>Al</th>\n",
              "      <th>Si</th>\n",
              "      <th>K</th>\n",
              "      <th>Ca</th>\n",
              "      <th>Ba</th>\n",
              "      <th>Fe</th>\n",
              "      <th>Type</th>\n",
              "    </tr>\n",
              "  </thead>\n",
              "  <tbody>\n",
              "    <tr>\n",
              "      <th>0</th>\n",
              "      <td>1.52101</td>\n",
              "      <td>13.64</td>\n",
              "      <td>4.49</td>\n",
              "      <td>1.10</td>\n",
              "      <td>71.78</td>\n",
              "      <td>0.06</td>\n",
              "      <td>8.75</td>\n",
              "      <td>0.0</td>\n",
              "      <td>0.00</td>\n",
              "      <td>1</td>\n",
              "    </tr>\n",
              "    <tr>\n",
              "      <th>1</th>\n",
              "      <td>1.51761</td>\n",
              "      <td>13.89</td>\n",
              "      <td>3.60</td>\n",
              "      <td>1.36</td>\n",
              "      <td>72.73</td>\n",
              "      <td>0.48</td>\n",
              "      <td>7.83</td>\n",
              "      <td>0.0</td>\n",
              "      <td>0.00</td>\n",
              "      <td>1</td>\n",
              "    </tr>\n",
              "    <tr>\n",
              "      <th>2</th>\n",
              "      <td>1.51618</td>\n",
              "      <td>13.53</td>\n",
              "      <td>3.55</td>\n",
              "      <td>1.54</td>\n",
              "      <td>72.99</td>\n",
              "      <td>0.39</td>\n",
              "      <td>7.78</td>\n",
              "      <td>0.0</td>\n",
              "      <td>0.00</td>\n",
              "      <td>1</td>\n",
              "    </tr>\n",
              "    <tr>\n",
              "      <th>3</th>\n",
              "      <td>1.51766</td>\n",
              "      <td>13.21</td>\n",
              "      <td>3.69</td>\n",
              "      <td>1.29</td>\n",
              "      <td>72.61</td>\n",
              "      <td>0.57</td>\n",
              "      <td>8.22</td>\n",
              "      <td>0.0</td>\n",
              "      <td>0.00</td>\n",
              "      <td>1</td>\n",
              "    </tr>\n",
              "    <tr>\n",
              "      <th>4</th>\n",
              "      <td>1.51742</td>\n",
              "      <td>13.27</td>\n",
              "      <td>3.62</td>\n",
              "      <td>1.24</td>\n",
              "      <td>73.08</td>\n",
              "      <td>0.55</td>\n",
              "      <td>8.07</td>\n",
              "      <td>0.0</td>\n",
              "      <td>0.00</td>\n",
              "      <td>1</td>\n",
              "    </tr>\n",
              "    <tr>\n",
              "      <th>5</th>\n",
              "      <td>1.51596</td>\n",
              "      <td>12.79</td>\n",
              "      <td>3.61</td>\n",
              "      <td>1.62</td>\n",
              "      <td>72.97</td>\n",
              "      <td>0.64</td>\n",
              "      <td>8.07</td>\n",
              "      <td>0.0</td>\n",
              "      <td>0.26</td>\n",
              "      <td>1</td>\n",
              "    </tr>\n",
              "    <tr>\n",
              "      <th>6</th>\n",
              "      <td>1.51743</td>\n",
              "      <td>13.30</td>\n",
              "      <td>3.60</td>\n",
              "      <td>1.14</td>\n",
              "      <td>73.09</td>\n",
              "      <td>0.58</td>\n",
              "      <td>8.17</td>\n",
              "      <td>0.0</td>\n",
              "      <td>0.00</td>\n",
              "      <td>1</td>\n",
              "    </tr>\n",
              "    <tr>\n",
              "      <th>7</th>\n",
              "      <td>1.51756</td>\n",
              "      <td>13.15</td>\n",
              "      <td>3.61</td>\n",
              "      <td>1.05</td>\n",
              "      <td>73.24</td>\n",
              "      <td>0.57</td>\n",
              "      <td>8.24</td>\n",
              "      <td>0.0</td>\n",
              "      <td>0.00</td>\n",
              "      <td>1</td>\n",
              "    </tr>\n",
              "    <tr>\n",
              "      <th>8</th>\n",
              "      <td>1.51918</td>\n",
              "      <td>14.04</td>\n",
              "      <td>3.58</td>\n",
              "      <td>1.37</td>\n",
              "      <td>72.08</td>\n",
              "      <td>0.56</td>\n",
              "      <td>8.30</td>\n",
              "      <td>0.0</td>\n",
              "      <td>0.00</td>\n",
              "      <td>1</td>\n",
              "    </tr>\n",
              "    <tr>\n",
              "      <th>9</th>\n",
              "      <td>1.51755</td>\n",
              "      <td>13.00</td>\n",
              "      <td>3.60</td>\n",
              "      <td>1.36</td>\n",
              "      <td>72.99</td>\n",
              "      <td>0.57</td>\n",
              "      <td>8.40</td>\n",
              "      <td>0.0</td>\n",
              "      <td>0.11</td>\n",
              "      <td>1</td>\n",
              "    </tr>\n",
              "  </tbody>\n",
              "</table>\n",
              "</div>"
            ],
            "text/plain": [
              "        RI     Na    Mg    Al     Si     K    Ca   Ba    Fe  Type\n",
              "0  1.52101  13.64  4.49  1.10  71.78  0.06  8.75  0.0  0.00     1\n",
              "1  1.51761  13.89  3.60  1.36  72.73  0.48  7.83  0.0  0.00     1\n",
              "2  1.51618  13.53  3.55  1.54  72.99  0.39  7.78  0.0  0.00     1\n",
              "3  1.51766  13.21  3.69  1.29  72.61  0.57  8.22  0.0  0.00     1\n",
              "4  1.51742  13.27  3.62  1.24  73.08  0.55  8.07  0.0  0.00     1\n",
              "5  1.51596  12.79  3.61  1.62  72.97  0.64  8.07  0.0  0.26     1\n",
              "6  1.51743  13.30  3.60  1.14  73.09  0.58  8.17  0.0  0.00     1\n",
              "7  1.51756  13.15  3.61  1.05  73.24  0.57  8.24  0.0  0.00     1\n",
              "8  1.51918  14.04  3.58  1.37  72.08  0.56  8.30  0.0  0.00     1\n",
              "9  1.51755  13.00  3.60  1.36  72.99  0.57  8.40  0.0  0.11     1"
            ]
          },
          "metadata": {
            "tags": []
          },
          "execution_count": 15
        }
      ]
    },
    {
      "cell_type": "code",
      "metadata": {
        "id": "5H0a_kAQ_6dy"
      },
      "source": [
        "dataset_2.isnull().sum() #checking for null values in each column "
      ],
      "execution_count": null,
      "outputs": []
    },
    {
      "cell_type": "code",
      "metadata": {
        "id": "IVvY5ml_A8lP"
      },
      "source": [
        "X = dataset_2[['RI','Na','Mg', 'Al', 'Si', 'K', 'Ca', 'Ba','Fe']]\r\n",
        "y = dataset_2['Type']"
      ],
      "execution_count": 17,
      "outputs": []
    },
    {
      "cell_type": "code",
      "metadata": {
        "colab": {
          "base_uri": "https://localhost:8080/"
        },
        "id": "TKGqrbOiaC1g",
        "outputId": "0a9b7daf-7c87-4fb5-ece9-1aaf7a8a1069"
      },
      "source": [
        "X.shape, y.shape"
      ],
      "execution_count": 18,
      "outputs": [
        {
          "output_type": "execute_result",
          "data": {
            "text/plain": [
              "((214, 9), (214,))"
            ]
          },
          "metadata": {
            "tags": []
          },
          "execution_count": 18
        }
      ]
    },
    {
      "cell_type": "code",
      "metadata": {
        "id": "pQ_tFPYoBm6I"
      },
      "source": [
        "X_train2,X_test2, y_train2, y_test2 = train_test_split(X,y, test_size=0.30, random_state=0) #spliting my data into test and train sets"
      ],
      "execution_count": 19,
      "outputs": []
    },
    {
      "cell_type": "code",
      "metadata": {
        "colab": {
          "base_uri": "https://localhost:8080/"
        },
        "id": "tp7rzbRZDn0N",
        "outputId": "3900897c-4931-4a8e-e253-bd10d91c3b0d"
      },
      "source": [
        "print(X_train2[0:10])\r\n",
        "print('\\n')\r\n",
        "print(X_test2[0:10])"
      ],
      "execution_count": 20,
      "outputs": [
        {
          "output_type": "stream",
          "text": [
            "          RI     Na    Mg    Al     Si     K     Ca    Ba    Fe\n",
            "111  1.52739  11.02  0.00  0.75  73.08  0.00  14.96  0.00  0.00\n",
            "159  1.51796  13.50  3.36  1.63  71.94  0.57   8.81  0.00  0.09\n",
            "24   1.51720  13.38  3.50  1.15  72.85  0.50   8.43  0.00  0.00\n",
            "30   1.51768  12.65  3.56  1.30  73.08  0.61   8.69  0.00  0.14\n",
            "60   1.51905  13.60  3.62  1.11  72.64  0.14   8.76  0.00  0.00\n",
            "56   1.51215  12.99  3.47  1.12  72.98  0.62   8.35  0.00  0.31\n",
            "109  1.51818  13.72  0.00  0.56  74.45  0.00  10.99  0.00  0.00\n",
            "92   1.51588  13.12  3.41  1.58  73.26  0.07   8.39  0.00  0.19\n",
            "19   1.51735  13.02  3.54  1.69  72.73  0.54   8.44  0.00  0.07\n",
            "161  1.51934  13.64  3.54  0.75  72.65  0.16   8.89  0.15  0.24\n",
            "\n",
            "\n",
            "          RI     Na    Mg    Al     Si     K     Ca    Ba    Fe\n",
            "197  1.51727  14.70  0.00  2.34  73.28  0.00   8.95  0.66  0.00\n",
            "37   1.51797  12.74  3.48  1.35  72.96  0.64   8.68  0.00  0.00\n",
            "89   1.51640  12.55  3.48  1.87  73.23  0.63   8.08  0.00  0.09\n",
            "176  1.51905  14.00  2.39  1.56  72.37  0.00   9.57  0.00  0.00\n",
            "170  1.52369  13.44  0.00  1.58  72.22  0.32  12.24  0.00  0.00\n",
            "75   1.51590  13.02  3.58  1.51  73.12  0.69   7.96  0.00  0.00\n",
            "96   1.51841  13.02  3.62  1.06  72.34  0.64   9.13  0.00  0.15\n",
            "137  1.51711  12.89  3.62  1.57  72.96  0.61   8.11  0.00  0.00\n",
            "5    1.51596  12.79  3.61  1.62  72.97  0.64   8.07  0.00  0.26\n",
            "83   1.51594  13.09  3.52  1.55  72.87  0.68   8.05  0.00  0.09\n"
          ],
          "name": "stdout"
        }
      ]
    },
    {
      "cell_type": "code",
      "metadata": {
        "id": "c9BkNN9DB4b1"
      },
      "source": [
        "gnb = GaussianNB() #using navis bayes\r\n",
        "gnb.fit(X_train2, y_train2)\r\n",
        "pred = gnb.predict(X_test2)"
      ],
      "execution_count": 21,
      "outputs": []
    },
    {
      "cell_type": "code",
      "metadata": {
        "colab": {
          "base_uri": "https://localhost:8080/"
        },
        "id": "wJ23PTRxCFN_",
        "outputId": "cb66ea64-ccbb-4e4b-ef22-6acfa2e15d2d"
      },
      "source": [
        "from sklearn import metrics\r\n",
        "\r\n",
        "print(\"Accuracy: \", round(metrics.accuracy_score(y_test2,pred),2))"
      ],
      "execution_count": 22,
      "outputs": [
        {
          "output_type": "stream",
          "text": [
            "Accuracy:  0.46\n"
          ],
          "name": "stdout"
        }
      ]
    },
    {
      "cell_type": "code",
      "metadata": {
        "colab": {
          "base_uri": "https://localhost:8080/"
        },
        "id": "Lb4b4zNWEIbG",
        "outputId": "ed774bc4-bfed-404b-e83e-8b92e28d1599"
      },
      "source": [
        "from sklearn.metrics import classification_report\r\n",
        "\r\n",
        "print(classification_report(y_test2, pred))"
      ],
      "execution_count": 23,
      "outputs": [
        {
          "output_type": "stream",
          "text": [
            "              precision    recall  f1-score   support\n",
            "\n",
            "           1       0.39      0.86      0.54        21\n",
            "           2       0.50      0.12      0.19        26\n",
            "           3       0.00      0.00      0.00         7\n",
            "           5       0.00      0.00      0.00         2\n",
            "           6       0.67      1.00      0.80         2\n",
            "           7       0.88      1.00      0.93         7\n",
            "\n",
            "    accuracy                           0.46        65\n",
            "   macro avg       0.41      0.50      0.41        65\n",
            "weighted avg       0.44      0.46      0.37        65\n",
            "\n"
          ],
          "name": "stdout"
        }
      ]
    },
    {
      "cell_type": "markdown",
      "metadata": {
        "id": "korsKHcBS0bn"
      },
      "source": [
        "Question 3"
      ]
    },
    {
      "cell_type": "code",
      "metadata": {
        "id": "TVwhzO6lanw7"
      },
      "source": [
        "from sklearn import svm #using SVM linear method\r\n",
        "\r\n",
        "svm_clf = svm.SVC(kernel='linear')\r\n",
        "svm_clf.fit(X_train2,y_train2)\r\n",
        "y_pred3 = svm_clf.predict(X_test2)"
      ],
      "execution_count": 24,
      "outputs": []
    },
    {
      "cell_type": "code",
      "metadata": {
        "colab": {
          "base_uri": "https://localhost:8080/"
        },
        "id": "I-S-B582an3a",
        "outputId": "e2289cb8-9256-467b-ec63-a95751edb257"
      },
      "source": [
        "print(\"Accuracy is: \", round(metrics.accuracy_score(y_test2,y_pred3),2))"
      ],
      "execution_count": 25,
      "outputs": [
        {
          "output_type": "stream",
          "text": [
            "Accuracy is:  0.57\n"
          ],
          "name": "stdout"
        }
      ]
    },
    {
      "cell_type": "code",
      "metadata": {
        "colab": {
          "base_uri": "https://localhost:8080/"
        },
        "id": "7XNqQIosd9CL",
        "outputId": "4e4e18de-f943-45d9-8c9d-a76c1d69106e"
      },
      "source": [
        "print(classification_report(y_test2, y_pred3))"
      ],
      "execution_count": 26,
      "outputs": [
        {
          "output_type": "stream",
          "text": [
            "              precision    recall  f1-score   support\n",
            "\n",
            "           1       0.48      0.71      0.58        21\n",
            "           2       0.57      0.50      0.53        26\n",
            "           3       0.00      0.00      0.00         7\n",
            "           5       0.67      1.00      0.80         2\n",
            "           6       0.00      0.00      0.00         2\n",
            "           7       1.00      1.00      1.00         7\n",
            "\n",
            "    accuracy                           0.57        65\n",
            "   macro avg       0.45      0.54      0.48        65\n",
            "weighted avg       0.51      0.57      0.53        65\n",
            "\n"
          ],
          "name": "stdout"
        },
        {
          "output_type": "stream",
          "text": [
            "/usr/local/lib/python3.6/dist-packages/sklearn/metrics/_classification.py:1272: UndefinedMetricWarning: Precision and F-score are ill-defined and being set to 0.0 in labels with no predicted samples. Use `zero_division` parameter to control this behavior.\n",
            "  _warn_prf(average, modifier, msg_start, len(result))\n"
          ],
          "name": "stderr"
        }
      ]
    }
  ]
}